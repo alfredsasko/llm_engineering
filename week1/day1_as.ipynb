{
 "cells": [
  {
   "cell_type": "code",
   "execution_count": 1,
   "id": "0134633e",
   "metadata": {},
   "outputs": [],
   "source": [
    "import os\n",
    "import requests\n",
    "from dotenv import load_dotenv\n",
    "from bs4 import BeautifulSoup\n",
    "from IPython.display import Markdown, display\n",
    "from openai import OpenAI\n",
    "from pprint import pprint"
   ]
  },
  {
   "cell_type": "code",
   "execution_count": 2,
   "id": "0568dccf",
   "metadata": {},
   "outputs": [],
   "source": [
    "load_dotenv(override=True)\n",
    "api_key = os.getenv(\"OPENAI_API_KEY\")\n",
    "if not api_key:\n",
    "    raise ValueError(\"OPENAI_API_KEY environment variable is not set.\")"
   ]
  },
  {
   "cell_type": "code",
   "execution_count": 3,
   "id": "353ffa14",
   "metadata": {},
   "outputs": [],
   "source": [
    "openai = OpenAI()"
   ]
  },
  {
   "cell_type": "code",
   "execution_count": 5,
   "id": "4c61b133",
   "metadata": {},
   "outputs": [],
   "source": [
    "headers = {\n",
    "  \"User-Agent\": \"Mozilla/5.0 (Windows NT 10.0; Win64; x64) AppleWebKit/537.36 (KHTML, like Gecko) Chrome/117.0.0.0 Safari/537.36\"   \n",
    "}\n",
    "\n",
    "class Website:\n",
    "    def __init__(self, url, headers=None):\n",
    "        self.url = url\n",
    "        response = requests.get(url, headers=headers)\n",
    "        soup = BeautifulSoup(response.content, 'html.parser')\n",
    "        self.title = soup.title.string if soup.title else \"No title found\"\n",
    "        for irrelevant in soup.body([\"script\", \"style\", \"img\", \"input\"]):\n",
    "            irrelevant.decompose()\n",
    "        self.text = soup.get_text(separator=' ', strip=True)"
   ]
  },
  {
   "cell_type": "code",
   "execution_count": 6,
   "id": "5d610bb0",
   "metadata": {},
   "outputs": [
    {
     "name": "stdout",
     "output_type": "stream",
     "text": [
      "Home - Edward Donner\n",
      "Home - Edward Donner Home Connect Four Outsmart An arena that pits LLMs against each other in a battle of diplomacy and deviousness About Posts Well, hi there. I’m Ed. I like writing code and experimenting with LLMs, and hopefully you’re here because you do too. I also enjoy DJing (but I’m badly out of practice), amateur electronic music production ( very amateur) and losing myself in Hacker News , nodding my head sagely to things I only half understand. I’m the co-founder and CTO of Nebula.io . We’re applying AI to a field where it can make a massive, positive impact: helping people discover their potential and pursue their reason for being. Recruiters use our product today to source, understand, engage and manage talent. I’m previously the founder and CEO of AI startup untapt, acquired in 2021 . We work with groundbreaking, proprietary LLMs verticalized for talent, we’ve patented our matching model, and our award-winning platform has happy customers and tons of press coverage. Connect with me for more! May 28, 2025 Connecting my courses – become an LLM expert and leader May 18, 2025 2025 AI Executive Briefing April 21, 2025 The Complete Agentic AI Engineering Course January 23, 2025 LLM Workshop – Hands-on with Agents – resources Navigation Home Connect Four Outsmart An arena that pits LLMs against each other in a battle of diplomacy and deviousness About Posts Get in touch ed [at] edwarddonner [dot] com www.edwarddonner.com Follow me LinkedIn Twitter Facebook Subscribe to newsletter Type your email… Subscribe\n"
     ]
    }
   ],
   "source": [
    "ed = Website(\"https://edwarddonner.com\", headers=headers)\n",
    "print(ed.title)\n",
    "print(ed.text)"
   ]
  },
  {
   "cell_type": "code",
   "execution_count": 7,
   "id": "543bfb0a",
   "metadata": {},
   "outputs": [],
   "source": [
    "system_prompt = \"You are an assistant that analyzes the contents of a website \\\n",
    "and provides a short summary, ignoring text that might be navigation related. \\\n",
    "Respond in markdown.\""
   ]
  },
  {
   "cell_type": "code",
   "execution_count": 8,
   "id": "b60acbfb",
   "metadata": {},
   "outputs": [],
   "source": [
    "def user_prompt(website):\n",
    "    user_prompt = f\"You are looking at website titled {website.title}\"\n",
    "    user_prompt += f\"\\nThe contents of this website is as follows; \\\n",
    "please provide a short summary of this website in markdown. \\\n",
    "If it includes news or annoucements, then summarize these too.\\n\\n\"\n",
    "    user_prompt += website.text\n",
    "    return user_prompt"
   ]
  },
  {
   "cell_type": "code",
   "execution_count": 9,
   "id": "c606fb73",
   "metadata": {},
   "outputs": [
    {
     "name": "stdout",
     "output_type": "stream",
     "text": [
      "You are looking at website titled Home - Edward Donner\n",
      "The contents of this website is as follows; please provide a short summary of this website in markdown. If it includes news or annoucements, then summarize these too.\n",
      "\n",
      "Home - Edward Donner Home Connect Four Outsmart An arena that pits LLMs against each other in a battle of diplomacy and deviousness About Posts Well, hi there. I’m Ed. I like writing code and experimenting with LLMs, and hopefully you’re here because you do too. I also enjoy DJing (but I’m badly out of practice), amateur electronic music production ( very amateur) and losing myself in Hacker News , nodding my head sagely to things I only half understand. I’m the co-founder and CTO of Nebula.io . We’re applying AI to a field where it can make a massive, positive impact: helping people discover their potential and pursue their reason for being. Recruiters use our product today to source, understand, engage and manage talent. I’m previously the founder and CEO of AI startup untapt, acquired in 2021 . We work with groundbreaking, proprietary LLMs verticalized for talent, we’ve patented our matching model, and our award-winning platform has happy customers and tons of press coverage. Connect with me for more! May 28, 2025 Connecting my courses – become an LLM expert and leader May 18, 2025 2025 AI Executive Briefing April 21, 2025 The Complete Agentic AI Engineering Course January 23, 2025 LLM Workshop – Hands-on with Agents – resources Navigation Home Connect Four Outsmart An arena that pits LLMs against each other in a battle of diplomacy and deviousness About Posts Get in touch ed [at] edwarddonner [dot] com www.edwarddonner.com Follow me LinkedIn Twitter Facebook Subscribe to newsletter Type your email… Subscribe\n"
     ]
    }
   ],
   "source": [
    "print(user_prompt(ed))"
   ]
  },
  {
   "cell_type": "code",
   "execution_count": 10,
   "id": "533bdbd4",
   "metadata": {},
   "outputs": [],
   "source": [
    "message = [\n",
    "    {\"role\": \"system\", \"content\": \"You are a snarky assistant\"},\n",
    "    {\"role\": \"user\", \"content\": \"What is 2 + 2?\"}\n",
    "]"
   ]
  },
  {
   "cell_type": "code",
   "execution_count": 11,
   "id": "5228ff44",
   "metadata": {},
   "outputs": [
    {
     "name": "stdout",
     "output_type": "stream",
     "text": [
      "Well, that's a math classic! 2 + 2 equals 4. But if you're looking for a more creative answer, I could always say \"the number of times I've rolled my eyes today.\"\n"
     ]
    }
   ],
   "source": [
    "response = openai.chat.completions.create(model=\"gpt-4o-mini\", messages=message)\n",
    "print(response.choices[0].message.content)"
   ]
  },
  {
   "cell_type": "code",
   "execution_count": 12,
   "id": "5592eb00",
   "metadata": {},
   "outputs": [],
   "source": [
    "def message_for(website):\n",
    "    return [\n",
    "        {\"role\": \"system\", \"content\": system_prompt},\n",
    "        {\"role\": \"user\", \"content\": user_prompt(website)}\n",
    "    ]"
   ]
  },
  {
   "cell_type": "code",
   "execution_count": 13,
   "id": "caa05fe8",
   "metadata": {},
   "outputs": [
    {
     "data": {
      "text/plain": [
       "[{'role': 'system',\n",
       "  'content': 'You are an assistant that analyzes the contents of a website and provides a short summary, ignoring text that might be navigation related. Respond in markdown.'},\n",
       " {'role': 'user',\n",
       "  'content': 'You are looking at website titled Home - Edward Donner\\nThe contents of this website is as follows; please provide a short summary of this website in markdown. If it includes news or annoucements, then summarize these too.\\n\\nHome - Edward Donner Home Connect Four Outsmart An arena that pits LLMs against each other in a battle of diplomacy and deviousness About Posts Well, hi there. I’m Ed. I like writing code and experimenting with LLMs, and hopefully you’re here because you do too. I also enjoy DJing (but I’m badly out of practice), amateur electronic music production ( very amateur) and losing myself in Hacker News , nodding my head sagely to things I only half understand. I’m the co-founder and CTO of Nebula.io . We’re applying AI to a field where it can make a massive, positive impact: helping people discover their potential and pursue their reason for being. Recruiters use our product today to source, understand, engage and manage talent. I’m previously the founder and CEO of AI startup untapt, acquired in 2021 . We work with groundbreaking, proprietary LLMs verticalized for talent, we’ve patented our matching model, and our award-winning platform has happy customers and tons of press coverage. Connect with me for more! May 28, 2025 Connecting my courses – become an LLM expert and leader May 18, 2025 2025 AI Executive Briefing April 21, 2025 The Complete Agentic AI Engineering Course January 23, 2025 LLM Workshop – Hands-on with Agents – resources Navigation Home Connect Four Outsmart An arena that pits LLMs against each other in a battle of diplomacy and deviousness About Posts Get in touch ed [at] edwarddonner [dot] com www.edwarddonner.com Follow me LinkedIn Twitter Facebook Subscribe to newsletter Type your email… Subscribe'}]"
      ]
     },
     "execution_count": 13,
     "metadata": {},
     "output_type": "execute_result"
    }
   ],
   "source": [
    "message_for(ed)"
   ]
  },
  {
   "cell_type": "code",
   "execution_count": 14,
   "id": "fbda920f",
   "metadata": {},
   "outputs": [],
   "source": [
    "def summarize(url):\n",
    "    website = Website(url)\n",
    "    response = openai.chat.completions.create(\n",
    "        model=\"gpt-4o-mini\",\n",
    "        messages=message_for(website)\n",
    "    )\n",
    "    return response.choices[0].message.content"
   ]
  },
  {
   "cell_type": "code",
   "execution_count": 15,
   "id": "33256973",
   "metadata": {},
   "outputs": [],
   "source": [
    "def display_summary(url):\n",
    "    summary = summarize(url)\n",
    "    display(Markdown(summary))"
   ]
  },
  {
   "cell_type": "code",
   "execution_count": 16,
   "id": "f2f9d143",
   "metadata": {},
   "outputs": [
    {
     "data": {
      "text/markdown": [
       "# Summary of Edward Donner's Website\n",
       "\n",
       "Edward Donner's website serves as a personal and professional platform where he shares his interests and expertise in coding, AI, and LLMs (Large Language Models). He introduces himself as a coder and experimenter who enjoys DJing and electronic music production, as well as staying updated with tech news.\n",
       "\n",
       "## Professional Background\n",
       "- Co-founder and CTO of **Nebula.io**, focused on using AI to help individuals discover their potential.\n",
       "- Previously the founder and CEO of the AI startup **untapt**, which was acquired in 2021 and specializes in talent matching using proprietary LLMs.\n",
       "\n",
       "## Recent Posts and Announcements\n",
       "1. **Connecting my courses – become an LLM expert and leader** (May 28, 2025)\n",
       "2. **2025 AI Executive Briefing** (May 18, 2025)\n",
       "3. **The Complete Agentic AI Engineering Course** (April 21, 2025)\n",
       "4. **LLM Workshop – Hands-on with Agents – resources** (January 23, 2025)\n",
       "\n",
       "Overall, the site highlights Edward's interests, professional journey, and ongoing educational initiatives in the field of AI and LLMs."
      ],
      "text/plain": [
       "<IPython.core.display.Markdown object>"
      ]
     },
     "metadata": {},
     "output_type": "display_data"
    }
   ],
   "source": [
    "display_summary(\"https://edwarddonner.com\")"
   ]
  },
  {
   "cell_type": "code",
   "execution_count": null,
   "id": "f246d160",
   "metadata": {},
   "outputs": [],
   "source": [
    "display_summary(\"https://cnn.com\")"
   ]
  },
  {
   "cell_type": "code",
   "execution_count": null,
   "id": "6ef96972",
   "metadata": {},
   "outputs": [],
   "source": [
    "display_summary(\"https://archlinux.org/\")"
   ]
  },
  {
   "cell_type": "code",
   "execution_count": null,
   "id": "b52c1107",
   "metadata": {},
   "outputs": [],
   "source": []
  }
 ],
 "metadata": {
  "kernelspec": {
   "display_name": ".venv",
   "language": "python",
   "name": "python3"
  },
  "language_info": {
   "codemirror_mode": {
    "name": "ipython",
    "version": 3
   },
   "file_extension": ".py",
   "mimetype": "text/x-python",
   "name": "python",
   "nbconvert_exporter": "python",
   "pygments_lexer": "ipython3",
   "version": "3.10.12"
  }
 },
 "nbformat": 4,
 "nbformat_minor": 5
}
