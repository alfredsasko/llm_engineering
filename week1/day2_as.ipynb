{
 "cells": [
  {
   "cell_type": "code",
   "execution_count": 1,
   "id": "90c9c197",
   "metadata": {},
   "outputs": [],
   "source": [
    "import re\n",
    "import requests\n",
    "from bs4 import BeautifulSoup\n",
    "from IPython.display import display, Markdown"
   ]
  },
  {
   "cell_type": "code",
   "execution_count": 2,
   "id": "895ce71f",
   "metadata": {},
   "outputs": [],
   "source": [
    "OLLAMA_API = \"http://localhost:11434/api/chat\"\n",
    "HEADERS = {\"Content-Type\": \"application/json\"}\n",
    "MODEL = \"llama3.2\""
   ]
  },
  {
   "cell_type": "code",
   "execution_count": 3,
   "id": "a8313515",
   "metadata": {},
   "outputs": [],
   "source": [
    "messages = [\n",
    "    {\n",
    "        \"role\": \"user\",\n",
    "        \"content\": \"Describe some of the business applications of Generative AI\",\n",
    "    },\n",
    "]"
   ]
  },
  {
   "cell_type": "code",
   "execution_count": null,
   "id": "431ef231",
   "metadata": {},
   "outputs": [],
   "source": [
    "payload = {\"model\": MODEL, \"messages\": messages, \"stream\": False}"
   ]
  },
  {
   "cell_type": "code",
   "execution_count": 5,
   "id": "2f478660",
   "metadata": {},
   "outputs": [
    {
     "name": "stdout",
     "output_type": "stream",
     "text": [
      "Generative AI has numerous business applications across various industries. Here are some examples:\n",
      "\n",
      "1. **Content Generation**: Generative AI can be used to generate high-quality content such as articles, social media posts, product descriptions, and even entire books. This can help businesses save time and resources, while also improving the consistency and quality of their content.\n",
      "2. **Product Design and Development**: Generative AI can be used to design new products, including 3D models, product mockups, and prototypes. This can help businesses reduce the time and cost associated with traditional design methods.\n",
      "3. **Marketing and Advertising**: Generative AI can be used to generate personalized marketing messages, ads, and social media content. This can help businesses better understand their customers' preferences and tailor their marketing efforts more effectively.\n",
      "4. **Customer Service**: Generative AI can be used to power chatbots and virtual assistants that provide customer support and answer frequently asked questions. This can help businesses improve the efficiency and effectiveness of their customer service operations.\n",
      "5. **Supply Chain Optimization**: Generative AI can be used to analyze supply chain data and identify opportunities for optimization. This can help businesses reduce costs, improve delivery times, and increase overall efficiency.\n",
      "6. **Financial Analysis and Planning**: Generative AI can be used to analyze large datasets of financial information and provide insights into market trends and opportunities. This can help businesses make more informed investment decisions and develop more effective business plans.\n",
      "7. **Cybersecurity**: Generative AI can be used to detect and respond to cyber threats in real-time. This can help businesses improve their cybersecurity posture and reduce the risk of data breaches.\n",
      "8. **Human Resources and Talent Acquisition**: Generative AI can be used to analyze job postings, resumes, and interview data to identify top talent and optimize hiring processes. This can help businesses attract and retain more skilled employees.\n",
      "9. **E-commerce and Retail**: Generative AI can be used to generate product recommendations, personalize customer experiences, and optimize inventory management. This can help businesses improve the efficiency and effectiveness of their e-commerce operations.\n",
      "10. **Healthcare and Medical Research**: Generative AI can be used to analyze medical data, identify patterns and trends, and develop new treatments for diseases. This can help businesses improve patient outcomes and accelerate medical research.\n",
      "\n",
      "Some specific business applications of Generative AI include:\n",
      "\n",
      "* Salesforce's generative AI-powered chatbots\n",
      "* Amazon's generative AI-powered product recommendations\n",
      "* IBM's generative AI-powered supply chain optimization tools\n",
      "* Microsoft's generative AI-powered customer service platform\n",
      "* Google's generative AI-powered content generation tools\n",
      "\n",
      "These are just a few examples of the many business applications of Generative AI. As the technology continues to evolve, we can expect to see even more innovative uses across various industries.\n"
     ]
    }
   ],
   "source": [
    "response = requests.post(OLLAMA_API, json=payload, headers=HEADERS)\n",
    "print(response.json()[\"message\"][\"content\"])"
   ]
  },
  {
   "cell_type": "code",
   "execution_count": 8,
   "id": "e820e928",
   "metadata": {},
   "outputs": [
    {
     "name": "stdout",
     "output_type": "stream",
     "text": [
      "Generative AI has numerous business applications across various industries. Here are some examples:\n",
      "\n",
      "1. **Content Generation**: Generative AI can generate high-quality content such as articles, blog posts, social media posts, and even entire books. This can be useful for businesses that need to produce large amounts of content quickly and efficiently.\n",
      "2. **Image and Video Generation**: Generative AI can create realistic images and videos that can be used for various purposes such as product visualization, advertising, and marketing campaigns.\n",
      "3. **Product Design**: Generative AI can help design products such as furniture, electronics, and other consumer goods by generating 3D models, prototypes, and even entire product lines.\n",
      "4. **Customer Service Chatbots**: Generative AI can power chatbots that can understand and respond to customer inquiries in a more human-like way, providing better customer service experiences.\n",
      "5. **Recommendation Systems**: Generative AI can generate personalized product recommendations for e-commerce businesses, helping customers discover new products and increase sales.\n",
      "6. **Language Translation**: Generative AI can translate languages in real-time, enabling businesses to communicate with global customers and expand their market reach.\n",
      "7. **Data Analysis and Visualization**: Generative AI can analyze large datasets and generate insights, visualizations, and reports that can help businesses make data-driven decisions.\n",
      "8. **Marketing Automation**: Generative AI can automate marketing campaigns by generating personalized messages, emails, and social media posts that resonate with target audiences.\n",
      "9. **Financial Modeling**: Generative AI can build financial models to predict stock prices, forecast revenue, and identify potential investment opportunities.\n",
      "10. **Creative Writing**: Generative AI can generate creative writing such as poetry, short stories, and even entire novels, which can be useful for businesses looking to create engaging content.\n",
      "\n",
      "Some of the key industries that are leveraging generative AI include:\n",
      "\n",
      "1. **E-commerce**: Amazon, Walmart, and other e-commerce companies are using generative AI to power personalized product recommendations, image generation, and chatbots.\n",
      "2. **Marketing**: Brands like Coca-Cola, Procter & Gamble, and Unilever are using generative AI to automate marketing campaigns and generate personalized content.\n",
      "3. **Finance**: Investment firms and banks are using generative AI to build financial models, predict stock prices, and identify potential investment opportunities.\n",
      "4. **Healthcare**: Hospitals and pharmaceutical companies are using generative AI to analyze medical data, generate personalized treatment plans, and develop new medicines.\n",
      "5. **Education**: Online education platforms are using generative AI to create personalized learning materials, generate adaptive assessments, and provide real-time feedback.\n",
      "\n",
      "These are just a few examples of the many business applications of generative AI. As the technology continues to evolve, we can expect to see even more innovative uses across various industries.\n"
     ]
    }
   ],
   "source": [
    "import ollama\n",
    "\n",
    "response = ollama.chat(model=MODEL, messages=messages)\n",
    "print(response[\"message\"][\"content\"])"
   ]
  },
  {
   "cell_type": "code",
   "execution_count": 10,
   "id": "d62b183b",
   "metadata": {},
   "outputs": [
    {
     "name": "stdout",
     "output_type": "stream",
     "text": [
      "Generative AI has several business applications across various industries. Here are some examples:\n",
      "\n",
      "1. **Content Generation**: Generative AI can generate high-quality, unique content such as:\n",
      " * Blog posts and articles\n",
      " * Social media posts and ads\n",
      " * Product descriptions and reviews\n",
      " * Technical documents and reports\n",
      " * Creative writing (e.g., stories, scripts)\n",
      "2. **Customer Service Chatbots**: Generative AI-powered chatbots can provide personalized support to customers through conversational interfaces.\n",
      "3. **Marketing Automation**: Generative AI can generate customized marketing campaigns, including:\n",
      " * Personalized emails and messages\n",
      " * Social media ads and promotions\n",
      " * Content suggestions (e.g., videos, blog posts)\n",
      "4. **Product Design and Development**: Generative AI can assist in designing new products by:\n",
      " * Generating 3D models and prototypes\n",
      " * Optimizing product designs for performance, aesthetics, and usability\n",
      "5. **Digital Product Creation**: Generative AI can create digital products such as:\n",
      " * Games (e.g., puzzles, platformers)\n",
      " * Interactive stories and experiences\n",
      " * Virtual worlds and simulations\n",
      "6. **Data Analysis and Visualization**: Generative AI can analyze large datasets and generate visualizations to help businesses gain insights and make data-driven decisions.\n",
      "7. **Predictive Maintenance**: Generative AI can analyze sensor data from machines and predict potential failures, allowing for proactive maintenance and reducing downtime.\n",
      "8. **Financial Modeling and Forecasting**: Generative AI can build financial models, forecast revenue, and identify opportunities for growth.\n",
      "9. **Personalized Recommendations**: Generative AI can create personalized product recommendations based on user behavior, preferences, and purchase history.\n",
      "10. **Supply Chain Optimization**: Generative AI can analyze supply chain data to predict demand fluctuations, optimize inventory levels, and reduce logistics costs.\n",
      "\n",
      "Some industries with the most promising applications of generative AI include:\n",
      "\n",
      "1. E-commerce and retail\n",
      "2. Marketing and advertising agencies\n",
      "3. Financial services and banking\n",
      "4. Healthcare and pharmaceuticals\n",
      "5. Manufacturing and production companies\n",
      "6. Education and training institutions\n",
      "\n",
      "Generative AI has the potential to transform various aspects of business operations, improve efficiency, and create new revenue streams.\n"
     ]
    }
   ],
   "source": [
    "from openai import OpenAI\n",
    "\n",
    "ollama_via_openai = OpenAI(base_url=\"http://localhost:11434/v1\", api_key=\"ollama\")\n",
    "response = ollama_via_openai.chat.completions.create(model=MODEL, messages=messages)\n",
    "print(response.choices[0].message.content)"
   ]
  },
  {
   "cell_type": "code",
   "execution_count": 11,
   "id": "32acfd57",
   "metadata": {},
   "outputs": [
    {
     "name": "stdout",
     "output_type": "stream",
     "text": [
      "<think>\n",
      "Okay, so I need to figure out what the user is asking for. They wrote, \"Please give definitions of some core concepts behind LLMs: a neural network, attention and the transformer.\" So they want detailed explanations, probably in English, on these three topics.\n",
      "\n",
      "First, let me make sure I understand all the terms needed. An LLM stands for Large Language Model. It's a type of machine learning model that primarily focuses on understanding and generating human-level text. They can be trained to perform various tasks like translation, summarization, creative writing, etc., by learning patterns from vast amounts of text data.\n",
      "\n",
      "The user specifically wants definitions of \"neural network,\" \"attention,\" and \" transformer.\" I know a bit about these terms but want to make sure I get their meanings correct because they are fundamental concepts in natural language processing (NLP) and machine learning, which underpin LLMs.\n",
      "\n",
      "Starting with neural networks. From what I remember, neural networks are inspired by the structure and function of biological neural networks, which were modeled computationally by/connectionist scientists such as John Hopfield and Simon bandel in the 70s. The key idea is that a neural network consists of many processing units (called neurons) organized in layers. These layers can be connected to each other, allowing for the transmission of information in both directions through the connections between units.\n",
      "\n",
      "In more depth, the basic components are:\n",
      "- Input layer: Receives input vectors and processes them.\n",
      "- Hidden layers: Perform computations on the inputs processed by the previous layer and pass their results to subsequent layers. These layers might involve multiple hidden neurons or layers of nonlinear activation functions.\n",
      "- Output layer: Outputs the vector from the last hidden layer, after applying an activation function.\n",
      "\n",
      "The goal is for a neural network to learn weights (also known as connection weights) that best translate the given input into the correct output.\n",
      "\n",
      "Transformer models are another critical concept. From what I recall, Transformers have influenced NLP tasks significantly and introduced some innovations. Unlike many other language models, which process one token at a time for every prediction during training and inference, the Transformer does not do this—it processes all tokens in parallel using either attention-based methods or multi-head attention.\n",
      "\n",
      "The key innovation here is that each token can focus on different parts of the input simultaneously when processing it. To achieve this, the model uses position-wise or token-wise (actually word-wise) feed-forward networks between layers, known as multi-head attention. This approach allows the model to simultaneously attend to multiple aspects of the surrounding context in a single step.\n",
      "\n",
      "In NLP tasks like language modeling and machine translation, Transformers have become state-of-the-art because they can process long-range dependencies through their attention mechanisms, which provide self-attention and cross-attention capabilities to transform input tokens into relevant representations. This makes them particularly effective at understanding the context of each word in a sentence.\n",
      "\n",
      "Now, back to LLMs: They consist often of multiple layers or multiple blocks of such models. Each block can perform different tasks like text generation, translation, summarization, etc. The challenge lies in training these massive models efficiently on large amounts of data while not requiring real-time attention during inference.\n",
      "\n",
      "Let me think again about what a neural network is. It's a computational model that processes information through layers of interconnected nodes or neurons. Each neuron receives input from the previous layer and applies an activation function to it, generating its output signal. The sum of the product of each weight and its corresponding input gives the net input at each node, which is then transformed by the activation function to produce a unit's output.\n",
      "\n",
      "But wait, in more modern models like transformers, they are often called \"neural network\" models because they still process data through multiple layers similar to early neural networks. However, it's important to note that transformers use a different architecture involving attention and position-aware features which aren't parts of traditional feedforward networks, unlike many early neural networks.\n",
      "\n",
      "Regarding the Transformer itself, I should clarify: The model itself is not just a machine learning network but specifically refers to a model composed of layers of self-attention mechanisms. Each layer consists of multiple attention heads that process the input in parallel and provide different views (attention weights) of the context, allowing tokens to focus on varying parts of the entire input.\n",
      "\n",
      "Putting it all together, LLMs leverage neural networks through various architectures (like transformer models), using both layers (for processing hierarchical data) and multi-head attention (for effective context-aware modeling). So, each part works synergistically with other modules within the model to enable comprehensible reasoning at scale.\n",
      "</think>\n",
      "\n",
      "LLMs are large language models designed to understand and generate human-level text by learning patterns from vast text datasets. They have significantly impacted various NLP tasks such as translation, summarization, and creativity through their ability to comprehend context and produce coherent outputs.\n",
      "\n",
      "### Neural Network:\n",
      "A neural network is inspired by biological neural networks and processes information internally using layers of artificial neurons connected by weights. It includes:\n",
      "\n",
      "1. **Input Layer**: Receives and processes initial input vectors.\n",
      "2. **Forward Propagation**: Transmits data from the input layer through hidden layers to the output layer, where outputs are generated or predicted based on features extracted.\n",
      "3. **Activation Functions**: Apply non-linearities between layers to simulate biological neural behavior.\n",
      "\n",
      "The goal is for a neural network to learn weights that best translate inputs into outputs by processing data across multiple layers and using nonlinear activation functions during forward propagation.\n",
      "\n",
      "### Transformer:\n",
      "A Transformer model processes sequences using the \"attention mechanism\" or multi-head attention. Key features include:\n",
      "\n",
      "1. **Parallel Processing**: Handles all tokens in parallel, enabling simultaneous attention on parts of input.\n",
      "2. **Multi-Head Attention**: Uses position-wise (or word-wise) feed-forward neural networks combined with attention mechanisms, allowing each token to focus on different parts simultaneously.\n",
      "\n",
      "It excels in tasks requiring long-range context understanding through self- and cross-attention, making it highly effective for NLP.\n",
      "\n",
      "### LLMs:\n",
      "LLMs are composed of multiple \"blocks,\" each processing text using layers (for hierarchy) or Transformers (for context-aware modeling). The challenge lies in efficient training and inference without real-time attention.\n"
     ]
    }
   ],
   "source": [
    "response = ollama_via_openai.chat.completions.create(\n",
    "    model=\"deepseek-r1:1.5b\",\n",
    "    messages=[\n",
    "        {\n",
    "            \"role\": \"user\",\n",
    "            \"content\": \"Please give definitions of some core concepts behind LLMs: a neural network, attention and the transformer\",\n",
    "        }\n",
    "    ],\n",
    ")\n",
    "\n",
    "print(response.choices[0].message.content)"
   ]
  },
  {
   "cell_type": "code",
   "execution_count": null,
   "id": "044e3e9e",
   "metadata": {},
   "outputs": [],
   "source": [
    "headers = {\n",
    "    \"User-Agent\": \"Mozilla/5.0 (Windows NT 10.0; Win64; x64) AppleWebKit/537.36 (KHTML, like Gecko) Chrome/117.0.0.0 Safari/537.36\"\n",
    "}\n",
    "\n",
    "\n",
    "class Website:\n",
    "    def __init__(self, url, headers=None):\n",
    "        self.url = url\n",
    "        response = requests.get(url, headers=headers)\n",
    "        soup = BeautifulSoup(response.content, \"html.parser\")\n",
    "        self.title = soup.title.string if soup.title else \"No title found\"\n",
    "        for irrelevant in soup.body([\"script\", \"style\", \"img\", \"input\"]):\n",
    "            irrelevant.decompose()\n",
    "        self.text = soup.get_text(separator=\" \", strip=True)\n",
    "\n",
    "\n",
    "ed = Website(\"https://edwarddonner.com\")"
   ]
  },
  {
   "cell_type": "code",
   "execution_count": 19,
   "id": "29481ade",
   "metadata": {},
   "outputs": [],
   "source": [
    "system_prompt = \"You are an assistant that analyzes the contents of a website \\\n",
    "and provides a short summary, ignoring text that might be navigation related. \\\n",
    "Respond in markdown.\""
   ]
  },
  {
   "cell_type": "code",
   "execution_count": 14,
   "id": "91525ec0",
   "metadata": {},
   "outputs": [],
   "source": [
    "def user_prompt(website):\n",
    "    user_prompt = f\"You are looking at website titled {website.title}\"\n",
    "    user_prompt += f\"\\nThe contents of this website is as follows; \\\n",
    "please provide a short summary of this website in markdown. \\\n",
    "If it includes news or annoucements, then summarize these too.\\n\\n\"\n",
    "    user_prompt += website.text\n",
    "    return user_prompt"
   ]
  },
  {
   "cell_type": "code",
   "execution_count": 22,
   "id": "42e0571c",
   "metadata": {},
   "outputs": [
    {
     "data": {
      "text/plain": [
       "[{'role': 'system',\n",
       "  'content': 'You are an assistant that analyzes the contents of a website and provides a short summary, ignoring text that might be navigation related. Respond in markdown.'},\n",
       " {'role': 'user',\n",
       "  'content': 'You are looking at website titled Home - Edward Donner\\nThe contents of this website is as follows; please provide a short summary of this website in markdown. If it includes news or annoucements, then summarize these too.\\n\\nHome - Edward Donner Home Connect Four Outsmart An arena that pits LLMs against each other in a battle of diplomacy and deviousness About Posts Well, hi there. I’m Ed. I like writing code and experimenting with LLMs, and hopefully you’re here because you do too. I also enjoy DJing (but I’m badly out of practice), amateur electronic music production ( very amateur) and losing myself in Hacker News , nodding my head sagely to things I only half understand. I’m the co-founder and CTO of Nebula.io . We’re applying AI to a field where it can make a massive, positive impact: helping people discover their potential and pursue their reason for being. Recruiters use our product today to source, understand, engage and manage talent. I’m previously the founder and CEO of AI startup untapt, acquired in 2021 . We work with groundbreaking, proprietary LLMs verticalized for talent, we’ve patented our matching model, and our award-winning platform has happy customers and tons of press coverage. Connect with me for more! May 28, 2025 Connecting my courses – become an LLM expert and leader May 18, 2025 2025 AI Executive Briefing April 21, 2025 The Complete Agentic AI Engineering Course January 23, 2025 LLM Workshop – Hands-on with Agents – resources Navigation Home Connect Four Outsmart An arena that pits LLMs against each other in a battle of diplomacy and deviousness About Posts Get in touch ed [at] edwarddonner [dot] com www.edwarddonner.com Follow me LinkedIn Twitter Facebook Subscribe to newsletter Type your email… Subscribe'}]"
      ]
     },
     "execution_count": 22,
     "metadata": {},
     "output_type": "execute_result"
    }
   ],
   "source": [
    "def message_for(website):\n",
    "    return [\n",
    "        {\"role\": \"system\", \"content\": system_prompt},\n",
    "        {\"role\": \"user\", \"content\": user_prompt(website)},\n",
    "    ]\n",
    "\n",
    "\n",
    "message_for(ed)"
   ]
  },
  {
   "cell_type": "code",
   "execution_count": 27,
   "id": "7db5f23d",
   "metadata": {},
   "outputs": [],
   "source": [
    "def summarize(url):\n",
    "    website = Website(url)\n",
    "    response = ollama_via_openai.chat.completions.create(\n",
    "    model=MODEL,\n",
    "    messages=message_for(website),\n",
    "    )\n",
    "    return response.choices[0].message.content"
   ]
  },
  {
   "cell_type": "code",
   "execution_count": 25,
   "id": "c9959b3e",
   "metadata": {},
   "outputs": [],
   "source": [
    "def display_summary(url):\n",
    "    summary = summarize(url)\n",
    "    display(Markdown(summary))"
   ]
  },
  {
   "cell_type": "code",
   "execution_count": 28,
   "id": "1e67163f",
   "metadata": {},
   "outputs": [
    {
     "data": {
      "text/markdown": [
       "### Website Summary\n",
       "#### Home Page Content without Navigation\n",
       "\n",
       "**Overview**\n",
       "Edward Donner is the home of his personal projects, writings, and professional endeavors. He shares insights on AI, innovation, technology, and leadership.\n",
       "\n",
       "**Highlights**\n",
       "\n",
       "* **LLM Arena**: A blog about LLMs (Large Language Models) and their applications, hosted on his website.\n",
       "* **Nebula.io & untapt**: Edward's work as a co-founder and CEO/CIO of AI startups Nebula.io and untapt, respectively. His platform helps recruiters source, understand, engage, and manage talent.\n",
       "* **Courses and Resources**:\n",
       "\t+ LLM Expert Course\n",
       "\t+ Complete Agentic AI Engineering Course\n",
       "\t+ LLM Workshop: Hands-on with Agents\n",
       "\n",
       "**Recent News and Announcements**\n",
       "\n",
       "* May 28, 2025: Connecting my courses – become an LLM expert and leader\n",
       "* May 18, 2025: 2025 AI Executive Briefing\n",
       "* April 21, 2025: The Complete Agentic AI Engineering Course (public launch)\n",
       "* January 23, 2025: LLM Workshop – Hands-on with Agents\n",
       "\n",
       "### Contact Information\n",
       "Contact Edward Donner through his website or social media profiles:\n",
       "* Email: `ed [at] edwarddonner [dot] com`\n",
       "* LinkedIn: [[LinkedIn Profile]]\n",
       "* Twitter: [[Twitter Handle]]\n",
       "* Facebook: [[Facebook Profile]]\n",
       "* Newsletter Subscription (via email form on the website)"
      ],
      "text/plain": [
       "<IPython.core.display.Markdown object>"
      ]
     },
     "metadata": {},
     "output_type": "display_data"
    }
   ],
   "source": [
    "display_summary(\"https://edwarddonner.com\")"
   ]
  },
  {
   "cell_type": "code",
   "execution_count": null,
   "id": "2883b012",
   "metadata": {},
   "outputs": [],
   "source": []
  }
 ],
 "metadata": {
  "kernelspec": {
   "display_name": ".venv",
   "language": "python",
   "name": "python3"
  },
  "language_info": {
   "codemirror_mode": {
    "name": "ipython",
    "version": 3
   },
   "file_extension": ".py",
   "mimetype": "text/x-python",
   "name": "python",
   "nbconvert_exporter": "python",
   "pygments_lexer": "ipython3",
   "version": "3.10.12"
  }
 },
 "nbformat": 4,
 "nbformat_minor": 5
}
