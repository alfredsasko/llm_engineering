{
 "cells": [
  {
   "cell_type": "code",
   "execution_count": null,
   "id": "caf77817",
   "metadata": {},
   "outputs": [],
   "source": [
    "# imports\n",
    "import os\n",
    "import json\n",
    "from dotenv import load_dotenv\n",
    "from openai import OpenAI\n",
    "import requests\n",
    "from bs4 import BeautifulSoup\n",
    "from IPython.display import display, Markdown, update_display"
   ]
  },
  {
   "cell_type": "code",
   "execution_count": 36,
   "id": "0a862474",
   "metadata": {},
   "outputs": [],
   "source": [
    "# Config\n",
    "load_dotenv(override=True)\n",
    "MODEL = \"gpt-4o-mini\"\n",
    "openai = OpenAI(base_url=\"http://localhost:11434/v1\", api_key=\"ollama\")     # OpenAI()\n",
    "headers = {\n",
    "    \"User-Agent\": \"Mozilla/5.0 (Windows NT 10.0; Win64; x64) AppleWebKit/537.36 (KHTML, like Gecko) Chrome/117.0.0.0 Safari/537.36\"\n",
    "}\n",
    "\n",
    "# Link handling\n",
    "link_system_prompt = \"You are provided with a list of links found on a webpage. \\\n",
    "    You are able to decide which of the links would be most relevant to include in a brochure about the company,\\\n",
    "     such as links to an About page, or a Company page or Careers/Jobs page.\\n\"\n",
    "link_system_prompt += \"You should response in JSON as in this example:\"\n",
    "link_system_prompt += \"\"\"\n",
    "    \"links\": [\n",
    "        {\"type\": \"about page\", \"url\": \"https://full.url/goes/here/about\"},\n",
    "        {\"type\": \"careers page\", \"url\": \"https://another.full.url/careers\"}\n",
    "    ]\n",
    "}\n",
    "\"\"\"\n",
    "# Ollama API configuration\n",
    "OLLAMA_API = \"http://localhost:11434/api/chat\"\n",
    "HEADERS = {\"Content-Type\": \"application/json\"}\n",
    "MODEL = \"llama3.2\"\n",
    "\n",
    "# Websites\n",
    "huggingface_company_name = \"Hugging Face\"\n",
    "huggingface_url = \"https://huggingface.co\"\n",
    "huggingface = Website(\"https://huggingface.co\")\n",
    "archlinux_company_name = \"Arch Linux\"\n",
    "archlinux_url = \"https://archlinux.org\"\n",
    "\n",
    "# Company brochure\n",
    "system_prompt = \"You are an assistant that analyzes the contents of several relevant pages from a company website \\\n",
    "and creates a short brochure about the company for prospective customers, investors and recruits. Respond in markdown.\\\n",
    "Include details of company culture, customers and careers/jobs if you have the information.\"\n"
   ]
  },
  {
   "cell_type": "code",
   "execution_count": null,
   "id": "d9fcf0f2",
   "metadata": {},
   "outputs": [],
   "source": [
    "# Helpers\n",
    "class Website:\n",
    "    def __init__(self, url, headers=None):\n",
    "        self.url = url\n",
    "        self.headers = headers\n",
    "        response = requests.get(url, headers=self.headers)\n",
    "        self.body = response.content\n",
    "        soup = BeautifulSoup(self.body, \"html.parser\")\n",
    "        self.title = soup.title.string if soup.title else \"No title\"\n",
    "        if soup.body:\n",
    "            for irrelevant in soup([\"script\", \"style\", \"img\", \"input\"]):\n",
    "                irrelevant.decompose()\n",
    "            self.text = soup.body.get_text(separator=\"\\n\", strip=True)\n",
    "        else:\n",
    "            self.text = \"\"\n",
    "        links = [link.get(\"href\") for link in soup.find_all(\"a\")]\n",
    "        self.links = [link for link in links if link]\n",
    "\n",
    "\n",
    "    def get_contents(self):\n",
    "        return f\"Webpage Title:\\n{self.title}\\nWebpage Contents:\\n{self.text}\\n\\n\"\n",
    "\n",
    "ed = Website(\"https://edwarddonner.com\", headers=headers)"
   ]
  },
  {
   "cell_type": "code",
   "execution_count": null,
   "id": "f23c9f83",
   "metadata": {},
   "outputs": [],
   "source": [
    "def get_links_user_prompt(website):\n",
    "    user_prompt = f\"Here is the list of links on the website of {website.url} - \"\n",
    "    user_prompt += \"please decide which of these are relevant web links for a \\\n",
    "        brochure about the company, respond with the full http URL in JSON format. \\\n",
    "        Do not include Terms of Service, Privacy, email links):\\n\"\n",
    "    user_prompt += \"Links (some might be relative links):\\n\"\n",
    "    user_prompt += \"\\n\".join(website.links)\n",
    "    return user_prompt\n",
    "\n",
    "print(get_links_user_prompt(ed))"
   ]
  },
  {
   "cell_type": "code",
   "execution_count": null,
   "id": "5a647efa",
   "metadata": {},
   "outputs": [],
   "source": [
    "def get_links(website):\n",
    "    response = openai.chat.completions.create(\n",
    "        model=MODEL,\n",
    "        messages=[\n",
    "            {\"role\": \"system\", \"content\": link_system_prompt},\n",
    "            {\"role\": \"user\", \"content\": get_links_user_prompt(website)}\n",
    "        ],\n",
    "        response_format={\"type\": \"json_object\"}\n",
    "    )\n",
    "    result = response.choices[0].message.content\n",
    "    return json.loads(result)\n",
    "\n",
    "print(huggingface.links)\n",
    "print(get_links(huggingface))\n"
   ]
  },
  {
   "cell_type": "code",
   "execution_count": null,
   "id": "a678ce5a",
   "metadata": {},
   "outputs": [],
   "source": [
    "def get_all_details(website):\n",
    "    result = \"Landing page:\\n\"\n",
    "    result += website.get_contents()\n",
    "    links = get_links(website)\n",
    "    print(\"Found links:\", links)\n",
    "    for link in links[\"links\"]:\n",
    "        result += f\"\\n\\n{link['type']}:\\n\"\n",
    "        result += Website(link[\"url\"]).get_contents()\n",
    "    return result\n",
    "\n",
    "print(get_all_details(huggingface))"
   ]
  },
  {
   "cell_type": "code",
   "execution_count": null,
   "id": "d21bb6d8",
   "metadata": {},
   "outputs": [],
   "source": [
    "def get_brochure_user_prompt(company_name, url, max_char=5_000):\n",
    "    user_prompt = f\"You are looking at the company called: {company_name}\\n\"\n",
    "\n",
    "    user_prompt += f\"Here are the contents of its landing page and other relevant pages; use this information to build a short brochure of the company in markdown.\\n\"\n",
    "    user_prompt += get_all_details(Website(url))\n",
    "    return user_prompt[:max_char]\n",
    "\n",
    "print(get_brochure_user_prompt(huggingface_company_name, huggingface_url))"
   ]
  },
  {
   "cell_type": "code",
   "execution_count": 35,
   "id": "e42a0ad8",
   "metadata": {},
   "outputs": [
    {
     "name": "stdout",
     "output_type": "stream",
     "text": [
      "Found links: {'links': [{'type': 'about page', 'url': 'https://huggingface.co/huggingface'}, {'type': 'careers page', 'url': 'https://apply.workable.com/huggingface/'}, {'type': 'company page', 'url': 'https://www.linkedin.com/company/huggingface/'}]}\n"
     ]
    },
    {
     "data": {
      "text/markdown": [
       "# Hugging Face Brochure\n",
       "\n",
       "## Welcome to Hugging Face\n",
       "**The AI community building the future.**  \n",
       "At Hugging Face, we empower individuals and organizations to collaborate on innovative AI solutions. Our platform is the go-to destination for machine learning enthusiasts, researchers, and enterprises alike.\n",
       "\n",
       "---\n",
       "\n",
       "### **What We Offer**\n",
       "- **Models**: Explore over 1 million machine learning models across various domains. Discover trending projects and contribute to state-of-the-art technology.\n",
       "- **Datasets**: Access a comprehensive library of over 250,000 datasets to fuel your AI projects.\n",
       "- **Spaces**: Host and share applications with unlimited space for creativity.\n",
       "- **Community**: Join a vibrant community of over 50,000 organizations and developers collectively advancing AI technology.\n",
       "\n",
       "---\n",
       "\n",
       "### **Our Technology**\n",
       "We are committed to open-source principles and provide a robust set of tools for developers:\n",
       "- **Transformers**: Industry-leading ML solutions for PyTorch and TensorFlow, with over 147,514 active contributors.\n",
       "- **Diffusers**: State-of-the-art diffusion models for enhanced training capabilities.\n",
       "- **Safetensors**: A secure way to store and distribute neural network weights.\n",
       "\n",
       "---\n",
       "\n",
       "### **Enterprise Solutions**\n",
       "For organizations looking to scale, we offer:\n",
       "- **Compute Services**: Deploy models with optimized inference endpoints starting at $0.60/hour.\n",
       "- **Enterprise Support**: Advanced security, dedicated support, and team collaboration features starting at $20/user/month.\n",
       "\n",
       "---\n",
       "\n",
       "### **Company Culture**\n",
       "Hugging Face fosters an inclusive and collaborative environment where innovation flourishes. Our culture extends beyond technology as we engage with our community through active forums, contributions, and shared learning experiences.\n",
       "\n",
       "---\n",
       "\n",
       "### **Join Us**\n",
       "We are constantly evolving and looking for passionate individuals to join our team. Whether you are a developer, a researcher, or simply someone enthusiastic about AI, explore career opportunities with us!\n",
       "\n",
       "---\n",
       "\n",
       "### **Contact & Connect**\n",
       "- **Website**: [Hugging Face](https://huggingface.co)\n",
       "- **Social Media**: Follow us on [Twitter](https://twitter.com/huggingface), [LinkedIn](https://www.linkedin.com/company/huggingface/), and join our [Discord](https://discord.gg/huggingface) community.\n",
       "\n",
       "---\n",
       "\n",
       "**Explore the future of AI with Hugging Face! Together, we can build something extraordinary.**"
      ],
      "text/plain": [
       "<IPython.core.display.Markdown object>"
      ]
     },
     "metadata": {},
     "output_type": "display_data"
    }
   ],
   "source": [
    "def stream_brochure(company_name, url):\n",
    "    stream = openai.chat.completions.create(\n",
    "        model=MODEL,\n",
    "        messages=[\n",
    "            {\"role\": \"system\", \"content\": system_prompt},\n",
    "            {\"role\": \"user\", \"content\": get_brochure_user_prompt(company_name, url)}\n",
    "        ],\n",
    "        stream=True\n",
    "    )\n",
    "\n",
    "    response = \"\"\n",
    "    display_handle = display(Markdown(\"\"), display_id=True)\n",
    "    for chunk in stream:\n",
    "        response += chunk.choices[0].delta.content or \"\"\n",
    "        response = response.replace(\"```\", \"\").replace(\"markdown\", \"\")\n",
    "        update_display(Markdown(response), display_id=display_handle.display_id)\n",
    "\n",
    "stream_brochure(huggingface_company_name, huggingface_url)"
   ]
  },
  {
   "cell_type": "code",
   "execution_count": 37,
   "id": "6106cd7d",
   "metadata": {},
   "outputs": [
    {
     "name": "stdout",
     "output_type": "stream",
     "text": [
      "Found links: {'links': [{'type': 'about page', 'url': 'https://huggingface.co/'}, {'type': 'company page', 'url': 'https://www.linkedin.com/company/huggingface/'}, {'type': 'blog', 'url': 'https://discuss.huggingface.co'}, {'type': 'facebook', 'url': 'https://www.facebook.com/huggingface'}, {'type': 'twitter', 'url': 'https://twitter.com/huggingface'}, {'type': 'github', 'url': 'https://github.com/huggingface'}, {'type': 'blog', 'url': 'https://huggingface.co/blog'}, {'type': 'news/updates', 'url': 'https://status.huggingface.co'}, {'type': 'datasets', 'url': 'https://huggingface.co/datasets'}, {'type': 'changelog', 'url': 'https://huggingface.co/changelog'}]}\n"
     ]
    },
    {
     "data": {
      "text/markdown": [
       "Hugging Face Brochure\n",
       "==========================\n",
       "\n",
       "**Introduction**\n",
       "---------------\n",
       "\n",
       "Welcome to Hugging Face, the leading platform for building, sharing, and collaborating on machine learning (ML) models. Our vibrant community of ML developers, researchers, and enthusiasts have created a vast ecosystem that powers some of the world's most groundbreaking applications.\n",
       "\n",
       "**Our Mission**\n",
       "----------------\n",
       "\n",
       "We are building the foundation of ML tooling with the community, empowering developers to create, discover, and collaborate on high-quality models. Our mission is to accelerate innovation in AI research and application, while providing practical tools for real-world problems.\n",
       "\n",
       "**Company Culture**\n",
       "-----------------\n",
       "\n",
       "At Hugging Face, we value community-driven collaboration, open-source principles, and inclusivity. We believe that the collective efforts of passionate individuals can achieve remarkable results.\n",
       "\n",
       "Our team consists of experienced engineers, researchers, and enthusiasts dedicated to delivering cutting-edge products that simplify ML development and deployment. With a strong focus on support, documentation, and continuous learning, we strive to create an exceptional user experience for our customers.\n",
       "\n",
       "**Customers**\n",
       "-------------\n",
       "\n",
       "Over 50,000 organizations worldwide rely on Hugging Face for their AI needs. These innovators span across various industries, including:\n",
       "\n",
       "*   **Meta**: Building cutting-edge AI technologies at the heart of Meta.\n",
       "*   **AI2**: Developing novel approaches to machine translation and beyond.\n",
       "*   **Amazon**: Creating AI-powered experiences that drive customer satisfaction.\n",
       "*   **Google**: Investigating breakthroughs in image recognition, natural language processing, and more.\n",
       "\n",
       "**Careers/Jobs**\n",
       "----------------\n",
       "\n",
       "If you're passionate about ML, data science, or software development, we encourage you to explore our job openings. Our team is committed to fostering a diverse and inclusive work environment where individuals can grow professionally and contribute their expertise to shaping the future of AI.\n",
       "\n",
       "**Products and Services**\n",
       "-------------------------\n",
       "\n",
       "Our open-source platform offers robust tools for building, training, and deploying high-quality ML models, including:\n",
       "\n",
       "*   **Transformers**: State-of-the-art library for PyTorch, TensorFlow, and JAX.\n",
       "*   **Diffusers**: Diffusion models in PyTorch for advanced applications.\n",
       "*   **Safetensors**: Safe way to store/distribute neural network weights.\n",
       "\n",
       "Our enterprise solutions expand upon these tools with security features, dedicated support, and more.\n",
       "\n",
       "**Stay Ahead**\n",
       "--------------\n",
       "\n",
       "Dive deeper into Hugging Face's ecosystem by connecting with us on social media platforms:\n",
       "\n",
       "GitHub | Twitter | LinkedIn"
      ],
      "text/plain": [
       "<IPython.core.display.Markdown object>"
      ]
     },
     "metadata": {},
     "output_type": "display_data"
    }
   ],
   "source": [
    "stream_brochure(huggingface_company_name, huggingface_url)"
   ]
  }
 ],
 "metadata": {
  "kernelspec": {
   "display_name": ".venv",
   "language": "python",
   "name": "python3"
  },
  "language_info": {
   "codemirror_mode": {
    "name": "ipython",
    "version": 3
   },
   "file_extension": ".py",
   "mimetype": "text/x-python",
   "name": "python",
   "nbconvert_exporter": "python",
   "pygments_lexer": "ipython3",
   "version": "3.10.12"
  }
 },
 "nbformat": 4,
 "nbformat_minor": 5
}
